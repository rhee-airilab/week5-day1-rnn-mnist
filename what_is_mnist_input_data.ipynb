{
 "cells": [
  {
   "cell_type": "markdown",
   "metadata": {},
   "source": [
    "#  곁가지: mnist.input_data 의 read_data_sets  ?"
   ]
  },
  {
   "cell_type": "code",
   "execution_count": 2,
   "metadata": {},
   "outputs": [
    {
     "data": {
      "text/html": [
       "<style>\n",
       "@media print {\n",
       "  a[href]:after {\n",
       "    content: none !important;\n",
       "  }\n",
       "}\n",
       "</style>"
      ],
      "text/plain": [
       "<IPython.core.display.HTML object>"
      ]
     },
     "metadata": {},
     "output_type": "display_data"
    }
   ],
   "source": [
    "%load_ext do_not_print_href\n",
    "%matplotlib inline\n",
    "from __future__ import print_function, division\n",
    "import sys\n",
    "import time\n",
    "import numpy as np\n",
    "import tensorflow as tf\n",
    "import matplotlib.pyplot as plt"
   ]
  },
  {
   "cell_type": "code",
   "execution_count": 3,
   "metadata": {
    "collapsed": true
   },
   "outputs": [],
   "source": [
    "from tensorflow.examples.tutorials.mnist.input_data import read_data_sets"
   ]
  },
  {
   "cell_type": "code",
   "execution_count": 4,
   "metadata": {
    "scrolled": true
   },
   "outputs": [
    {
     "name": "stdout",
     "output_type": "stream",
     "text": [
      "Extracting ./mnist/train-images-idx3-ubyte.gz\n",
      "Extracting ./mnist/train-labels-idx1-ubyte.gz\n",
      "Extracting ./mnist/t10k-images-idx3-ubyte.gz\n",
      "Extracting ./mnist/t10k-labels-idx1-ubyte.gz\n"
     ]
    }
   ],
   "source": [
    "mnist = read_data_sets('./mnist', one_hot=False)"
   ]
  },
  {
   "cell_type": "code",
   "execution_count": 7,
   "metadata": {},
   "outputs": [
    {
     "data": {
      "text/plain": [
       "Datasets(train=<tensorflow.contrib.learn.python.learn.datasets.mnist.DataSet object at 0x7fd54074e7d0>, validation=<tensorflow.contrib.learn.python.learn.datasets.mnist.DataSet object at 0x7fd4ebe94490>, test=<tensorflow.contrib.learn.python.learn.datasets.mnist.DataSet object at 0x7fd4ebe94750>)"
      ]
     },
     "execution_count": 7,
     "metadata": {},
     "output_type": "execute_result"
    }
   ],
   "source": [
    "mnist"
   ]
  },
  {
   "cell_type": "code",
   "execution_count": 8,
   "metadata": {},
   "outputs": [
    {
     "data": {
      "text/plain": [
       "<tensorflow.contrib.learn.python.learn.datasets.mnist.DataSet at 0x7fd54074e7d0>"
      ]
     },
     "execution_count": 8,
     "metadata": {},
     "output_type": "execute_result"
    }
   ],
   "source": [
    "mnist.train"
   ]
  },
  {
   "cell_type": "code",
   "execution_count": 10,
   "metadata": {
    "scrolled": true
   },
   "outputs": [
    {
     "data": {
      "text/plain": [
       "{'_epochs_completed': 0, '_images': array([[ 0.,  0.,  0., ...,  0.,  0.,  0.],\n",
       "        [ 0.,  0.,  0., ...,  0.,  0.,  0.],\n",
       "        [ 0.,  0.,  0., ...,  0.,  0.,  0.],\n",
       "        ..., \n",
       "        [ 0.,  0.,  0., ...,  0.,  0.,  0.],\n",
       "        [ 0.,  0.,  0., ...,  0.,  0.,  0.],\n",
       "        [ 0.,  0.,  0., ...,  0.,  0.,  0.]], dtype=float32), '_index_in_epoch': 0, '_labels': array([7, 3, 4, ..., 5, 6, 8], dtype=uint8), '_num_examples': 55000}"
      ]
     },
     "execution_count": 10,
     "metadata": {},
     "output_type": "execute_result"
    }
   ],
   "source": [
    "vars(mnist.train)"
   ]
  },
  {
   "cell_type": "code",
   "execution_count": 11,
   "metadata": {},
   "outputs": [
    {
     "data": {
      "text/plain": [
       "55000"
      ]
     },
     "execution_count": 11,
     "metadata": {},
     "output_type": "execute_result"
    }
   ],
   "source": [
    "mnist.train._num_examples"
   ]
  },
  {
   "cell_type": "code",
   "execution_count": 13,
   "metadata": {},
   "outputs": [
    {
     "data": {
      "text/plain": [
       "55000"
      ]
     },
     "execution_count": 13,
     "metadata": {},
     "output_type": "execute_result"
    }
   ],
   "source": [
    "mnist.train.num_examples"
   ]
  },
  {
   "cell_type": "code",
   "execution_count": 5,
   "metadata": {
    "collapsed": true
   },
   "outputs": [],
   "source": [
    "from pprint import pprint\n",
    "import inspect"
   ]
  },
  {
   "cell_type": "code",
   "execution_count": 12,
   "metadata": {
    "scrolled": false
   },
   "outputs": [
    {
     "name": "stdout",
     "output_type": "stream",
     "text": [
      "[ ( '__class__',\n",
      "    <class 'tensorflow.contrib.learn.python.learn.datasets.mnist.DataSet'>),\n",
      "  ( '__delattr__',\n",
      "    <method-wrapper '__delattr__' of DataSet object at 0x7fd54074e7d0>),\n",
      "  ( '__dict__',\n",
      "    { '_epochs_completed': 0,\n",
      "      '_images': array([[ 0.,  0.,  0., ...,  0.,  0.,  0.],\n",
      "       [ 0.,  0.,  0., ...,  0.,  0.,  0.],\n",
      "       [ 0.,  0.,  0., ...,  0.,  0.,  0.],\n",
      "       ..., \n",
      "       [ 0.,  0.,  0., ...,  0.,  0.,  0.],\n",
      "       [ 0.,  0.,  0., ...,  0.,  0.,  0.],\n",
      "       [ 0.,  0.,  0., ...,  0.,  0.,  0.]], dtype=float32),\n",
      "      '_index_in_epoch': 0,\n",
      "      '_labels': array([7, 3, 4, ..., 5, 6, 8], dtype=uint8),\n",
      "      '_num_examples': 55000}),\n",
      "  ('__doc__', None),\n",
      "  ( '__format__',\n",
      "    <built-in method __format__ of DataSet object at 0x7fd54074e7d0>),\n",
      "  ( '__getattribute__',\n",
      "    <method-wrapper '__getattribute__' of DataSet object at 0x7fd54074e7d0>),\n",
      "  ( '__hash__',\n",
      "    <method-wrapper '__hash__' of DataSet object at 0x7fd54074e7d0>),\n",
      "  ( '__init__',\n",
      "    <bound method DataSet.__init__ of <tensorflow.contrib.learn.python.learn.datasets.mnist.DataSet object at 0x7fd54074e7d0>>),\n",
      "  ('__module__', 'tensorflow.contrib.learn.python.learn.datasets.mnist'),\n",
      "  ('__new__', <built-in method __new__ of type object at 0x7fd54dcf2660>),\n",
      "  ( '__reduce__',\n",
      "    <built-in method __reduce__ of DataSet object at 0x7fd54074e7d0>),\n",
      "  ( '__reduce_ex__',\n",
      "    <built-in method __reduce_ex__ of DataSet object at 0x7fd54074e7d0>),\n",
      "  ( '__repr__',\n",
      "    <method-wrapper '__repr__' of DataSet object at 0x7fd54074e7d0>),\n",
      "  ( '__setattr__',\n",
      "    <method-wrapper '__setattr__' of DataSet object at 0x7fd54074e7d0>),\n",
      "  ( '__sizeof__',\n",
      "    <built-in method __sizeof__ of DataSet object at 0x7fd54074e7d0>),\n",
      "  ('__str__', <method-wrapper '__str__' of DataSet object at 0x7fd54074e7d0>),\n",
      "  ( '__subclasshook__',\n",
      "    <built-in method __subclasshook__ of type object at 0x4f06020>),\n",
      "  ('__weakref__', None),\n",
      "  ('_epochs_completed', 0),\n",
      "  ( '_images',\n",
      "    array([[ 0.,  0.,  0., ...,  0.,  0.,  0.],\n",
      "       [ 0.,  0.,  0., ...,  0.,  0.,  0.],\n",
      "       [ 0.,  0.,  0., ...,  0.,  0.,  0.],\n",
      "       ..., \n",
      "       [ 0.,  0.,  0., ...,  0.,  0.,  0.],\n",
      "       [ 0.,  0.,  0., ...,  0.,  0.,  0.],\n",
      "       [ 0.,  0.,  0., ...,  0.,  0.,  0.]], dtype=float32)),\n",
      "  ('_index_in_epoch', 0),\n",
      "  ('_labels', array([7, 3, 4, ..., 5, 6, 8], dtype=uint8)),\n",
      "  ('_num_examples', 55000),\n",
      "  ('epochs_completed', 0),\n",
      "  ( 'images',\n",
      "    array([[ 0.,  0.,  0., ...,  0.,  0.,  0.],\n",
      "       [ 0.,  0.,  0., ...,  0.,  0.,  0.],\n",
      "       [ 0.,  0.,  0., ...,  0.,  0.,  0.],\n",
      "       ..., \n",
      "       [ 0.,  0.,  0., ...,  0.,  0.,  0.],\n",
      "       [ 0.,  0.,  0., ...,  0.,  0.,  0.],\n",
      "       [ 0.,  0.,  0., ...,  0.,  0.,  0.]], dtype=float32)),\n",
      "  ('labels', array([7, 3, 4, ..., 5, 6, 8], dtype=uint8)),\n",
      "  ( 'next_batch',\n",
      "    <bound method DataSet.next_batch of <tensorflow.contrib.learn.python.learn.datasets.mnist.DataSet object at 0x7fd54074e7d0>>),\n",
      "  ('num_examples', 55000)]\n"
     ]
    }
   ],
   "source": [
    "pprint(inspect.getmembers(mnist.train),indent=2)"
   ]
  },
  {
   "cell_type": "markdown",
   "metadata": {},
   "source": [
    "주피터 노트북에서, 입력 창에 ?read_data_sets 를 입력하면 도움말이 나옵니다만, 큰 도움이 안되네요\n",
    "\n",
    "<code>\n",
    "Signature: read_data_sets(<span style=\"color:red\">train_dir</span>, fake_data=False, <span style=\"color:red\">one_hot=False</span>, dtype=tf.float32, reshape=True, validation_size=5000)\n",
    "Docstring: &lt;no docstring&gt;\n",
    "File:      /opt/conda/envs/airi400/lib/python2.7/site-packages/tensorflow/contrib/learn/python/learn/datasets/mnist.py\n",
    "Type:      function\n",
    "</code>\n",
    "\n",
    "#### read_data_set 이 뭔지 찾아보려고 텐서플로우 소스를 뒤져 보기로 합니다.\n",
    "\n",
    "  - [`input_data.py`](https://github.com/tensorflow/tensorflow/blob/r1.3/tensorflow/examples/tutorials/mnist/input_data.py)\n",
    "\n",
    "    - `from tensorflow.contrib.learn.python.learn.datasets.mnist import read_data_sets`\n",
    "\n",
    "\n",
    "  - [`mnist.py`](https://github.com/tensorflow/tensorflow/blob/r1.3/tensorflow/contrib/learn/python/learn/datasets/mnist.py)\n",
    "\n",
    "    - `def read_data_sets()` 를 찾아 봅니다. (212 행 근처)\n",
    "    \n",
    "    - 여기서의 결론은\n",
    "    \n",
    "      ```\n",
    "    train = DataSet(train_images, train_labels, **options)\n",
    "    validation = DataSet(validation_images, validation_labels, **options)\n",
    "    test = DataSet(test_images, test_labels, **options)\n",
    "    return base.Datasets(train=train, validation=validation, test=test)\n",
    "      ```\n",
    "\n",
    "    - `DataSet` (105행 근처)\n",
    "      ```\n",
    "    class DataSet(object):\n",
    "\n",
    "        def __init__(   self,\n",
    "                        images,\n",
    "                        labels,\n",
    "                        fake_data=False,\n",
    "                        one_hot=False,\n",
    "                        dtype=dtypes.float32,\n",
    "                        reshape=True,\n",
    "                        seed=None):\n",
    "        ...\n",
    "        @property\n",
    "        def images(self):\n",
    "            return self._images\n",
    "\n",
    "        @property\n",
    "        def labels(self):\n",
    "            return self._labels\n",
    "\n",
    "        @property\n",
    "        def num_examples(self):\n",
    "            return self._num_examples\n",
    "\n",
    "        @property\n",
    "        def epochs_completed(self):\n",
    "            return self._epochs_completed\n",
    "\n",
    "      ```"
   ]
  }
 ],
 "metadata": {
  "kernelspec": {
   "display_name": "Python 2",
   "language": "python",
   "name": "python2"
  },
  "language_info": {
   "codemirror_mode": {
    "name": "ipython",
    "version": 2
   },
   "file_extension": ".py",
   "mimetype": "text/x-python",
   "name": "python",
   "nbconvert_exporter": "python",
   "pygments_lexer": "ipython2",
   "version": "2.7.13"
  }
 },
 "nbformat": 4,
 "nbformat_minor": 2
}
